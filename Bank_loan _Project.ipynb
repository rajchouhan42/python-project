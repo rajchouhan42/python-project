{
 "cells": [
  {
   "cell_type": "code",
   "execution_count": 2,
   "id": "f70de5e2-5d38-4c18-acf5-076acaf79f29",
   "metadata": {},
   "outputs": [
    {
     "name": "stdout",
     "output_type": "stream",
     "text": [
      "Welcome\n"
     ]
    },
    {
     "name": "stdin",
     "output_type": "stream",
     "text": [
      "Enter your salary:  50000\n",
      "Enter your alternate EMI:  5000\n",
      "Enter your credit score:  800\n",
      "Enter your loan amount:  500000\n",
      "How many members are there in your family:  3\n",
      "Enter loan duration in months:  36\n"
     ]
    },
    {
     "name": "stdout",
     "output_type": "stream",
     "text": [
      "You are eligible for a loan!\n"
     ]
    }
   ],
   "source": [
    "print(\"Welcome\")  # Greeting\n",
    "\n",
    "# Input collection with proper variable assignment and prompts\n",
    "sal = int(input(\"Enter your salary: \"))\n",
    "alte = int(input(\"Enter your alternate EMI: \"))\n",
    "cs = float(input(\"Enter your credit score: \"))\n",
    "la = int(input(\"Enter your loan amount: \"))\n",
    "f = int(input(\"How many members are there in your family: \"))\n",
    "mon = int(input(\"Enter loan duration in months: \"))\n",
    "\n",
    "# Calculation of eligibility parameters\n",
    "ed = (1 + alte) * 20\n",
    "exp = 4000 * f\n",
    "fa = (60 * sal) / 100\n",
    "\n",
    "# Checking loan eligibility\n",
    "if sal >= 20000 and fa > exp and ed < 40:\n",
    "    if 700 < cs < 850:  \n",
    "        ins = 15 / 1200  \n",
    "        emi = (la * ins * (1 + ins) ** mon) / ((1 + ins) ** mon - 1)\n",
    "        print(\"Your monthly EMI is:\", round(emi, 2))  \n",
    "    elif cs >= 850:  \n",
    "        ins = 13 / 1200  \n",
    "        emi = (la * ins * (1 + ins) ** mon) / ((1 + ins) ** mon - 1)\n",
    "        print(\"Your monthly EMI is:\", round(emi, 2))  \n",
    "    else:\n",
    "        print(\"You are not eligible for a loan!\")  \n",
    "else:\n",
    "    print(\"You are eligible for a loan!\")  "
   ]
  },
  {
   "cell_type": "code",
   "execution_count": null,
   "id": "e5bccf93-aa8e-4938-9eb6-1ebd12b87695",
   "metadata": {},
   "outputs": [],
   "source": []
  }
 ],
 "metadata": {
  "kernelspec": {
   "display_name": "Python 3 (ipykernel)",
   "language": "python",
   "name": "python3"
  },
  "language_info": {
   "codemirror_mode": {
    "name": "ipython",
    "version": 3
   },
   "file_extension": ".py",
   "mimetype": "text/x-python",
   "name": "python",
   "nbconvert_exporter": "python",
   "pygments_lexer": "ipython3",
   "version": "3.10.10"
  }
 },
 "nbformat": 4,
 "nbformat_minor": 5
}
