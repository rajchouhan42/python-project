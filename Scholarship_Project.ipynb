{
 "cells": [
  {
   "cell_type": "code",
   "execution_count": 1,
   "id": "7c2a3f0a-0b70-4b74-a418-ac50ebe379cf",
   "metadata": {},
   "outputs": [],
   "source": [
    "### SCHOlARSHIP PROJECT"
   ]
  },
  {
   "cell_type": "code",
   "execution_count": 11,
   "id": "341f726d-c0e6-4000-b593-c9c7f60a773e",
   "metadata": {},
   "outputs": [
    {
     "name": "stdin",
     "output_type": "stream",
     "text": [
      "Enter your current year: 3\n",
      "Enter your category: gen\n",
      "Enter your privious year passing status: 2\n",
      "Enter your last year precentage: 90\n"
     ]
    },
    {
     "name": "stdout",
     "output_type": "stream",
     "text": [
      "you got an scholarship of rupees 5000\n"
     ]
    }
   ],
   "source": [
    "cry = input(\"Enter your current year:\").lower()\n",
    "cat = input(\"Enter your category:\")\n",
    "preyear = str(input(\"Enter your privious year passing status:\")).lower()\n",
    "per = float(input(\"Enter your last year precentage:\"))\n",
    "\n",
    "sa ={\n",
    "    \"sc\":45000,\n",
    "    \"st\":65000,\n",
    "    \"obc\":23000,\n",
    "    }\n",
    "if cat in sa:\n",
    "    sh = sa[cat]\n",
    "    if per > 50 and per< 60:\n",
    "        print(\"you got an scholarship of rupees\",sh)\n",
    "    elif per >= 60 and per <75:\n",
    "        sh+=(sh*10)/100\n",
    "        print(\"you got an scholarship of rupees\",sh)\n",
    "    elif per >=75 and per <85:\n",
    "        sh +=(sh*20)/100\n",
    "        print(\"you got an scholarship of rupees\",sh)\n",
    "    elif per >=85 and per <95:\n",
    "        sh+=('you got an scholarship of rupees',sh)\n",
    "    elif per >=95:\n",
    "        sh*=2\n",
    "        print(\"you got an scholarship of rupess\",sh)\n",
    "    else:\n",
    "        \n",
    "        print(\"you are not eligible !\")\n",
    "    \n",
    "if  cat == \"gen\" and per >85:\n",
    "    print(\"you got an scholarship of rupees\",5000)"
   ]
  },
  {
   "cell_type": "code",
   "execution_count": null,
   "id": "59d105d1-0b2e-4bbe-8698-dde878943acf",
   "metadata": {},
   "outputs": [],
   "source": []
  }
 ],
 "metadata": {
  "kernelspec": {
   "display_name": "Python 3 (ipykernel)",
   "language": "python",
   "name": "python3"
  },
  "language_info": {
   "codemirror_mode": {
    "name": "ipython",
    "version": 3
   },
   "file_extension": ".py",
   "mimetype": "text/x-python",
   "name": "python",
   "nbconvert_exporter": "python",
   "pygments_lexer": "ipython3",
   "version": "3.10.10"
  }
 },
 "nbformat": 4,
 "nbformat_minor": 5
}
