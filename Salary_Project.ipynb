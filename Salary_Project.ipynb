{
 "cells": [
  {
   "cell_type": "code",
   "execution_count": 1,
   "id": "871c2783-ec70-4ec6-a8c0-8667188b28e7",
   "metadata": {},
   "outputs": [
    {
     "name": "stdout",
     "output_type": "stream",
     "text": [
      "TOTAL SALARY :  1955000\n",
      "AVERAGE SALARY :  93095.23809523809\n",
      "sorry\n",
      "sorry\n",
      "sorry\n",
      "above 50% : 200000\n",
      "sorry\n",
      "sorry\n",
      "sorry\n",
      "sorry\n",
      "sorry\n",
      "sorry\n",
      "sorry\n",
      "sorry\n",
      "sorry\n",
      "sorry\n",
      "sorry\n",
      "above 50% : 150000\n",
      "sorry\n",
      "sorry\n",
      "sorry\n",
      "sorry\n",
      "above 50% : 230000\n",
      "90000\n",
      "100000\n",
      "90000\n"
     ]
    }
   ],
   "source": [
    "import statistics\n",
    "\n",
    "li=[100000,90000,100000,200000,50000,100000,50000,70000,70000,50000,50000,50000,85000,50000,100000,150000,100000,60000,100000,100000,230000]\n",
    "avg=0\n",
    "for i in range(0,len(li)):\n",
    "    avg=avg + li[i]\n",
    "print(\"TOTAL SALARY : \",avg)\n",
    "avg=avg/(len(li))\n",
    "print(\"AVERAGE SALARY : \",avg)\n",
    "for i in range(0,len(li)):\n",
    "    fi=(50*avg)/100\n",
    "    aavg=avg+fi\n",
    "    bavg=avg-fi\n",
    "    if li[i]>aavg:\n",
    "        print(\"above 50% :\",li[i])\n",
    "    elif li[i]<bavg:\n",
    "        print(\"BELOW 50% : \",li[i])\n",
    "    elif li[i]==(avg*4):\n",
    "        print(\"multiple :\",li[i])\n",
    "    else:\n",
    "        print(\"sorry\")\n",
    "li.sort()\n",
    "\n",
    "print(statistics.median(li))\n",
    "print(statistics.mode(li))\n",
    "print(statistics.median(li))\n",
    "        \n"
   ]
  },
  {
   "cell_type": "code",
   "execution_count": null,
   "id": "47831957-32d3-473a-94d5-8bf4769af956",
   "metadata": {},
   "outputs": [],
   "source": []
  }
 ],
 "metadata": {
  "kernelspec": {
   "display_name": "Python 3 (ipykernel)",
   "language": "python",
   "name": "python3"
  },
  "language_info": {
   "codemirror_mode": {
    "name": "ipython",
    "version": 3
   },
   "file_extension": ".py",
   "mimetype": "text/x-python",
   "name": "python",
   "nbconvert_exporter": "python",
   "pygments_lexer": "ipython3",
   "version": "3.10.10"
  }
 },
 "nbformat": 4,
 "nbformat_minor": 5
}
