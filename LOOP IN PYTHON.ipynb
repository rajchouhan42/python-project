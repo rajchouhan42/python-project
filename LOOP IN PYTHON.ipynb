{
 "cells": [
  {
   "cell_type": "code",
   "execution_count": 1,
   "id": "0c6fd7b8-829a-41d3-8894-e295a395b57f",
   "metadata": {},
   "outputs": [],
   "source": [
    "#LOOP\n",
    "#for\n",
    "#while\n",
    "\n"
   ]
  },
  {
   "cell_type": "code",
   "execution_count": 15,
   "id": "5b1bd85d-a258-4e26-982a-e33f211d6725",
   "metadata": {},
   "outputs": [
    {
     "name": "stdout",
     "output_type": "stream",
     "text": [
      "this normal print statement\n"
     ]
    }
   ],
   "source": [
    "###### for loop #########\n",
    "for i in range(1,11):\n",
    "     if i%7 ==0:\n",
    "         break\n",
    "         print(i)\n",
    "else:\n",
    "    print(\"loop is complete\")\n",
    "print(\"this normal print statement\")\n",
    "         "
   ]
  },
  {
   "cell_type": "code",
   "execution_count": 18,
   "id": "986837c3-d3b8-4e28-82df-7e3bb285262a",
   "metadata": {},
   "outputs": [
    {
     "ename": "IndentationError",
     "evalue": "unindent does not match any outer indentation level (<tokenize>, line 5)",
     "output_type": "error",
     "traceback": [
      "\u001b[1;36m  File \u001b[1;32m<tokenize>:5\u001b[1;36m\u001b[0m\n\u001b[1;33m    else:\u001b[0m\n\u001b[1;37m    ^\u001b[0m\n\u001b[1;31mIndentationError\u001b[0m\u001b[1;31m:\u001b[0m unindent does not match any outer indentation level\n"
     ]
    }
   ],
   "source": [
    "for i in range(3,21):\n",
    "    for j in range(2,i):\n",
    "        it i%j==0:\n",
    "        break\n",
    "   else:\n",
    "       print(i)\n",
    "    "
   ]
  },
  {
   "cell_type": "code",
   "execution_count": null,
   "id": "5531d6a6-da33-4a7a-bf1d-d1a510bd94a4",
   "metadata": {},
   "outputs": [],
   "source": [
    "n = int(input(\"Enter a number\"))\n",
    "for j in range(2,n):\n",
    "    if n%j==0:\n",
    "        print ('Not a prime number')\n",
    "        break\n",
    "        \n",
    "        "
   ]
  },
  {
   "cell_type": "code",
   "execution_count": null,
   "id": "03db233f-c1bc-4224-80c7-3eec604e1d2d",
   "metadata": {},
   "outputs": [],
   "source": [
    "n = 1\n",
    "while n<11:\n",
    "    if n==5:\n",
    "        break\n",
    "        "
   ]
  },
  {
   "cell_type": "code",
   "execution_count": 24,
   "id": "885b526e-1603-45a6-9de0-b8047d563a1a",
   "metadata": {},
   "outputs": [
    {
     "name": "stdin",
     "output_type": "stream",
     "text": [
      "enter a no you went to table :  2\n"
     ]
    },
    {
     "name": "stdout",
     "output_type": "stream",
     "text": [
      "2 x 1 = 2\n",
      "2 x 2 = 4\n",
      "2 x 3 = 6\n",
      "2 x 4 = 8\n",
      "2 x 5 = 10\n",
      "2 x 6 = 12\n",
      "2 x 7 = 14\n",
      "2 x 8 = 16\n",
      "2 x 9 = 18\n",
      "2 x 10 = 20\n"
     ]
    }
   ],
   "source": [
    "n = int (input(\"enter a no you went to table : \"))\n",
    "i = 1\n",
    "while i <=200:\n",
    "    print (n,\"x\",i,\"=\",n*i)\n",
    "    i += 1"
   ]
  },
  {
   "cell_type": "code",
   "execution_count": 1,
   "id": "948ad1be-fbcf-4d9e-a341-388fd53bdc6c",
   "metadata": {},
   "outputs": [
    {
     "name": "stdin",
     "output_type": "stream",
     "text": [
      "enter a no you went to table :  5\n"
     ]
    },
    {
     "name": "stdout",
     "output_type": "stream",
     "text": [
      "5 x 1 = 5\n",
      "5 x 3 = 15\n",
      "5 x 5 = 25\n",
      "5 x 7 = 35\n",
      "5 x 9 = 45\n"
     ]
    }
   ],
   "source": [
    "n = int (input(\"enter a no you went to table : \"))\n",
    "i = 1\n",
    "while i <=10:\n",
    "    a = n*i\n",
    "    if a%10 == 5 or a%10 == 7:\n",
    "        print (n,\"x\",i,\"=\",n*i)\n",
    "    i += 1"
   ]
  },
  {
   "cell_type": "code",
   "execution_count": 5,
   "id": "6181bd66-6661-4047-a4ad-6248d9cf5598",
   "metadata": {},
   "outputs": [
    {
     "ename": "NameError",
     "evalue": "name 'eve' is not defined",
     "output_type": "error",
     "traceback": [
      "\u001b[1;31m---------------------------------------------------------------------------\u001b[0m",
      "\u001b[1;31mNameError\u001b[0m                                 Traceback (most recent call last)",
      "Cell \u001b[1;32mIn[5], line 5\u001b[0m\n\u001b[0;32m      3\u001b[0m \u001b[38;5;28;01mwhile\u001b[39;00m n \u001b[38;5;241m<\u001b[39m\u001b[38;5;241m=\u001b[39m\u001b[38;5;241m10\u001b[39m:\n\u001b[0;32m      4\u001b[0m     \u001b[38;5;28;01mif\u001b[39;00m n\u001b[38;5;241m%\u001b[39m\u001b[38;5;241m2\u001b[39m\u001b[38;5;241m==\u001b[39m\u001b[38;5;241m0\u001b[39m:\n\u001b[1;32m----> 5\u001b[0m         eve\u001b[38;5;241m+\u001b[39m\u001b[38;5;241m=\u001b[39m\u001b[38;5;241m1\u001b[39m\n\u001b[0;32m      6\u001b[0m     \u001b[38;5;28;01melse\u001b[39;00m:\n\u001b[0;32m      7\u001b[0m         odd\u001b[38;5;241m+\u001b[39m\u001b[38;5;241m=\u001b[39m\u001b[38;5;241m1\u001b[39m\n",
      "\u001b[1;31mNameError\u001b[0m: name 'eve' is not defined"
     ]
    }
   ],
   "source": [
    "even = 0\n",
    "odd = 0\n",
    "while n <=10:\n",
    "    if n%2==0:\n",
    "        eve+=1\n",
    "    else:\n",
    "        odd+=1\n",
    "    n+=1\n",
    "print ('Even=', eve)\n",
    "print ('Odd=', odd)"
   ]
  },
  {
   "cell_type": "code",
   "execution_count": null,
   "id": "49f0cf29-3f03-4133-99f9-9045b2a821a2",
   "metadata": {},
   "outputs": [],
   "source": []
  }
 ],
 "metadata": {
  "kernelspec": {
   "display_name": "Python 3 (ipykernel)",
   "language": "python",
   "name": "python3"
  },
  "language_info": {
   "codemirror_mode": {
    "name": "ipython",
    "version": 3
   },
   "file_extension": ".py",
   "mimetype": "text/x-python",
   "name": "python",
   "nbconvert_exporter": "python",
   "pygments_lexer": "ipython3",
   "version": "3.10.10"
  }
 },
 "nbformat": 4,
 "nbformat_minor": 5
}
